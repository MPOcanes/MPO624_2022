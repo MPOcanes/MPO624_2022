{
 "cells": [
  {
   "cell_type": "markdown",
   "id": "informative-sucking",
   "metadata": {},
   "source": [
    "# Creating and Storing Earthdata Login Credentials\n",
    "### Author: Chris Battisto\n",
    "### Date Authored: 2-4-22\n",
    "\n",
    "### Timing\n",
    "\n",
    "Exercise: 5 minutes\n",
    "\n",
    "### Overview\n",
    "\n",
    "This notebook demonstrates how to generate and store your Earthdata Login credentials in a <code>.netrc</code> file.\n",
    "\n",
    "### Prerequisites\n",
    "\n",
    "This notebook was written using Python 3.8, and requires a valid Earthdata username and password.\n"
   ]
  },
  {
   "cell_type": "markdown",
   "id": "broken-composite",
   "metadata": {},
   "source": [
    "### Import Libraries"
   ]
  },
  {
   "cell_type": "code",
   "execution_count": 1,
   "id": "durable-disaster",
   "metadata": {},
   "outputs": [],
   "source": [
    "from netrc import netrc\n",
    "from subprocess import Popen\n",
    "from platform import system\n",
    "from getpass import getpass\n",
    "import os\n",
    "import requests"
   ]
  },
  {
   "cell_type": "markdown",
   "id": "mediterranean-nicaragua",
   "metadata": {},
   "source": [
    "### Generate the netrc file with your Earthdata credentials\n",
    "\n",
    "Alternatively, you can upload a previously generated netrc file to the root directory of your system\n",
    "If you believe you have entered an incorrect username or password, you must manually remove the previously generated netrc by before running the below cell again to re-generate a new file.\n",
    "\n",
    "The following cell will check if a netrc file exists, and create one for a UNIX environment.\n",
    "\n",
    "If you are operating in a Windows environment, the code in the following Openscapes tutorial will automatically check if the operating system is Windows or UNIX: https://nasa-openscapes.github.io/earthdata-cloud-cookbook/get-started/earthdata-login.html#python-for-windows-or-macos"
   ]
  },
  {
   "cell_type": "code",
   "execution_count": 8,
   "id": "rotary-twelve",
   "metadata": {},
   "outputs": [],
   "source": [
    "urs = 'urs.earthdata.nasa.gov'    # Earthdata URL endpoint for authentication\n",
    "prompts = ['Enter NASA Earthdata Login Username: ',\n",
    "           'Enter NASA Earthdata Login Password: ']\n",
    "\n",
    "netrc_name = \".netrc\"\n",
    "\n",
    "# Determine if netrc file exists, and if so, if it includes NASA Earthdata Login Credentials\n",
    "try:\n",
    "    netrcDir = os.path.expanduser(f\"~/{netrc_name}\")\n",
    "    netrc(netrcDir).authenticators(urs)[0]\n",
    "\n",
    "# Below, create a netrc file and prompt user for NASA Earthdata Login Username and Password\n",
    "except FileNotFoundError:\n",
    "    homeDir = os.path.expanduser(\"~\")\n",
    "    Popen('touch {0}{2} | echo machine {1} >> {0}{2}'.format(homeDir + os.sep, urs, netrc_name), shell=True)\n",
    "    Popen('echo login {} >> {}{}'.format(getpass(prompt=prompts[0]), homeDir + os.sep, netrc_name), shell=True)\n",
    "    Popen('echo \\'password {} \\'>> {}{}'.format(getpass(prompt=prompts[1]), homeDir + os.sep, netrc_name), shell=True)\n",
    "    # Set restrictive permissions\n",
    "    Popen('chmod 0600 {0}{1}'.format(homeDir + os.sep, netrc_name), shell=True)\n"
   ]
  },
  {
   "cell_type": "code",
   "execution_count": 3,
   "id": "a38f117a",
   "metadata": {},
   "outputs": [
    {
     "name": "stdout",
     "output_type": "stream",
     "text": [
      "total 36\n",
      "drwxr-xr-x  9 jovyan jovyan 6144 Mar 18 18:46 .\n",
      "drwxr-xr-x  1 root   root     20 Oct  4 16:21 ..\n",
      "drwxr-xr-x  4 jovyan jovyan 6144 Mar 18 18:47 .cache\n",
      "drwxr-xr-x  4 jovyan jovyan 6144 Mar 18 18:46 .config\n",
      "drwxr-xr-x  3 jovyan jovyan 6144 Mar 18 18:45 .ipython\n",
      "drwxr-xr-x  3 jovyan jovyan 6144 Apr  1 17:10 .jupyter\n",
      "drwxr-xr-x  3 jovyan jovyan 6144 Mar 18 18:07 .local\n",
      "-rw-------  1 jovyan jovyan   63 Mar 18 18:46 .netrc\n",
      "drwxr-xr-x  7 jovyan jovyan 6144 Mar 18 18:41 VaporLakes\n",
      "drwxr-xr-x 20 jovyan jovyan 6144 Apr  1 17:52 shared\n"
     ]
    }
   ],
   "source": [
    "! ls -al ~/"
   ]
  },
  {
   "cell_type": "markdown",
   "id": "0980de9e",
   "metadata": {},
   "source": [
    "### Generate your .urs_cookies and .dodsrc files\n",
    "\n",
    "First, create the .dodsrc and .urs_cookies files, to be stored in your root directory:"
   ]
  },
  {
   "cell_type": "code",
   "execution_count": 4,
   "id": "05c9880a",
   "metadata": {},
   "outputs": [],
   "source": [
    "! touch ~/.dodsrc"
   ]
  },
  {
   "cell_type": "code",
   "execution_count": 5,
   "id": "09e83a8c",
   "metadata": {},
   "outputs": [],
   "source": [
    "! touch ~/.urs_cookies"
   ]
  },
  {
   "cell_type": "markdown",
   "id": "6458756b",
   "metadata": {},
   "source": [
    "Then, enter the following code into the .netrc file. You must enter your full root directory path, and not <code>~/</code> which you can check by running <code>pwd</code> in your root directory."
   ]
  },
  {
   "cell_type": "code",
   "execution_count": 6,
   "id": "67e2c608",
   "metadata": {},
   "outputs": [],
   "source": [
    "! echo \"HTTP.NETRC=<YourHomeDirectory>/.netrc\" >> ~/.dodsrc"
   ]
  },
  {
   "cell_type": "code",
   "execution_count": 7,
   "id": "0040e462",
   "metadata": {},
   "outputs": [],
   "source": [
    "! echo \"HTTP.COOKIEJAR=<YourHomeDirectory>/.urs_cookies\" >> ~/.dodsrc"
   ]
  },
  {
   "cell_type": "code",
   "execution_count": 14,
   "id": "3fbb999a-3ab1-4e65-8cd8-b8526f28fff1",
   "metadata": {},
   "outputs": [],
   "source": [
    "# !cat ~/.netrc"
   ]
  },
  {
   "cell_type": "code",
   "execution_count": null,
   "id": "f41ba2ea-d990-45c1-8945-e9a94111fc42",
   "metadata": {},
   "outputs": [],
   "source": []
  }
 ],
 "metadata": {
  "kernelspec": {
   "display_name": "Python 3 (ipykernel)",
   "language": "python",
   "name": "python3"
  },
  "language_info": {
   "codemirror_mode": {
    "name": "ipython",
    "version": 3
   },
   "file_extension": ".py",
   "mimetype": "text/x-python",
   "name": "python",
   "nbconvert_exporter": "python",
   "pygments_lexer": "ipython3",
   "version": "3.9.10"
  }
 },
 "nbformat": 4,
 "nbformat_minor": 5
}
