{
 "cells": [
  {
   "attachments": {},
   "cell_type": "markdown",
   "metadata": {},
   "source": [
    "# How to Generate Earthdata Prerequisite Files\n",
    "\n",
    "### Overview\n",
    "\n",
    "This guide demonstrates how to generate three Earthdata prerequisite files (.netrc, .urs_cookies, .dodsrc) needed to access the GES DISC archives manually, or through Python. It uses native Python libraries to generate the files in either Windows/macOS/Linux environments and to place them in their appropriate folders.\n",
    "\n",
    "### Example\n",
    "\n",
    "<img src=\"https://raw.githubusercontent.com/nasa/gesdisc-tutorials/main/images/Prerequisite-Files-Diagram.png\" alt=\"Prerequisite Files Diagram\">\n",
    "\n",
    "Figure 1: File and folder hierarchy showing where each Earthdata authentication file should be stored in your local filesystem.\n",
    "\n",
    "### Prerequisites\n",
    "\n",
    "This notebook was written using Python 3.8, and requires the following:\n",
    "- Approval to access the GES DISC archives with your Earthdata credentials: https://disc.gsfc.nasa.gov/earthdata-login"
   ]
  },
  {
   "attachments": {},
   "cell_type": "markdown",
   "metadata": {},
   "source": [
    "### 1. Create Prerequisite Files Manually\n",
    "\n",
    "- #### Create <code>.netrc</code> file:\n",
    "    1. Make sure you have set up your [Earthdata account](https://disc.gsfc.nasa.gov/#top).\n",
    "    2. Create a .netrc file in your home directory by following these steps:\n",
    "\n",
    "    On **Mac/Linux**:\n",
    "    1. <code>cd ~</code> or <code>cd $HOME</code>\n",
    "    2. <code>touch .netrc</code>\n",
    "    3. <code>echo \"machine urs.earthdata.nasa.gov login < uid > password < password >\" >> .netrc</code>, where < uid > is your username and < password > is your Earthdata Login password without the brackets.\n",
    "    4. <code>chmod 0600 .netrc</code>, so only you can access it.\n",
    "\n",
    "    On **Windows**:\n",
    "    1. Open Notepad\n",
    "    2. Enter (without quotes):<br><br>\n",
    "       <code>machine urs.earthdata.nasa.gov login < uid > password < password ></code><br>\n",
    "       Replace  <uid> with your username and <password> with your Earthdata Login password and remove the brackets.<br><br>\n",
    "    3. Save as C:\\\\.netrc<br>\n",
    "\n",
    "         "
   ]
  },
  {
   "cell_type": "markdown",
   "metadata": {},
   "source": [
    "- #### Create <code>.urs_cookies</code> file:\n",
    "    On **Mac/Linux**:\n",
    "    1. <code>cd ~</code> or <code>cd $HOME</code>\n",
    "    2. <code>touch .urs_cookies</code>\n",
    "\n",
    "    On **Windows**:\n",
    "    1. Open a run-command window by pressing <code>WinKey + R</code>\n",
    "    2. Next, enter \"cmd\" in the text field and click \"OK\".\n",
    "    3. Navigate to the home directory. In this guide, we place it under the C drive. You can navigate to the C drive by entering <code>C:</code>\n",
    "    4. Finally, enter <code>NUL > .urs_cookies</code>.\n",
    "\n",
    "    Note: you may get an 'Access denied' error. Enter 'dir' in Windows or ‘ls’ in Mac/Linux to verify that '.urs_cookies' file is listed in your directory."
   ]
  },
  {
   "cell_type": "markdown",
   "metadata": {},
   "source": [
    "- #### Create <code>.dodsrc</code> file:\n",
    "    On **Mac/Linux**:\n",
    "    1. <code>cd ~</code> or <code>cd $HOME</code>\n",
    "    2. <code>touch .dodsrc</code>\n",
    "    3. Open the .dodsrc file in a text editor and add the following lines, with the paths to your .netrc and .urs_cookies files: <br><br>\n",
    "    HTTP.NETRC=< YourHomeDirectory >/.netrc<br>\n",
    "    HTTP.COOKIEJAR=< YourHomeDirectory >/.urs_cookies<br><br>\n",
    "    Replace < YourHomeDirectory > with the ABSOLUTE path of your home directory and remove the bracket.<br><br>\n",
    "\n",
    "    On **Windows**:\n",
    "    1. Open a run-command window by pressing <code>WinKey + R</code>\n",
    "    2. Next, enter \"cmd\" in the text field and click \"OK\".\n",
    "    3. Navigate to your root user directory.\n",
    "    4. Enter <code>NUL > .dodsrc</code>\n",
    "    5. Open the .dodsrc file in a text editor and add the following lines, with the paths to your .netrc and .urs_cookies files: <br><br>\n",
    "    HTTP.NETRC=< YourHomeDirectory >/.netrc<br>\n",
    "    HTTP.COOKIEJAR=< YourHomeDirectory >/.urs_cookies<br><br>\n",
    "    Replace < YourHomeDirectory > with the ABSOLUTE path of your home directory and remove the bracket.<br><br>\n",
    "    6. Copy the .dodsrc file to your *working* project directory."
   ]
  },
  {
   "cell_type": "markdown",
   "metadata": {},
   "source": [
    "### 2. Create prerequisite files using Python\n",
    "\n",
    "The following Python code will prompt you for your Earthdata username and password before generating and storing these three files in their appropriate locations for Windows, Linux, or macOS operating systems. It can be run multiple times, and each time will overwrite existing credential files (if they already exist). This code can be run inside of this notebook or can be put into its own Python script.\n",
    "\n",
    "**Note:** For Windows users, the <code>.dodsrc</code> file is also required in your working directory, which may require re-running this code in other project directories, or manually copying the <code>.dodsrc</code> file into any other project directories that access GES DISC data. The code below will automatically check if it is run inside of a Windows environment and will copy <code>.dodsrc</code> into your current working directory."
   ]
  },
  {
   "cell_type": "code",
   "execution_count": 1,
   "metadata": {},
   "outputs": [
    {
     "name": "stdin",
     "output_type": "stream",
     "text": [
      "Enter NASA Earthdata Login Username \n",
      "(or create an account at urs.earthdata.nasa.gov):  ········\n",
      "Enter NASA Earthdata Login Password:  ········\n"
     ]
    },
    {
     "name": "stdout",
     "output_type": "stream",
     "text": [
      "Saved .netrc, .urs_cookies, and .dodsrc to: /Users/bmapes/\n"
     ]
    }
   ],
   "source": [
    "from subprocess import Popen\n",
    "from getpass import getpass\n",
    "import platform\n",
    "import os\n",
    "import shutil\n",
    "\n",
    "urs = 'urs.earthdata.nasa.gov'    # Earthdata URL to call for authentication\n",
    "prompts = ['Enter NASA Earthdata Login Username \\n(or create an account at urs.earthdata.nasa.gov): ',\n",
    "           'Enter NASA Earthdata Login Password: ']\n",
    "\n",
    "homeDir = os.path.expanduser(\"~\") + os.sep\n",
    "\n",
    "with open(homeDir + '.netrc', 'w') as file:\n",
    "    file.write('machine {} login {} password {}'.format(urs, getpass(prompt=prompts[0]), getpass(prompt=prompts[1])))\n",
    "    file.close()\n",
    "with open(homeDir + '.urs_cookies', 'w') as file:\n",
    "    file.write('')\n",
    "    file.close()\n",
    "with open(homeDir + '.dodsrc', 'w') as file:\n",
    "    file.write('HTTP.COOKIEJAR={}.urs_cookies\\n'.format(homeDir))\n",
    "    file.write('HTTP.NETRC={}.netrc'.format(homeDir))\n",
    "    file.close()\n",
    "\n",
    "print('Saved .netrc, .urs_cookies, and .dodsrc to:', homeDir)\n",
    "\n",
    "# Set appropriate permissions for Linux/macOS\n",
    "if platform.system() != \"Windows\":\n",
    "    Popen('chmod og-rw ~/.netrc', shell=True)\n",
    "else:\n",
    "    # Copy dodsrc to working directory in Windows  \n",
    "    shutil.copy2(homeDir + '.dodsrc', os.getcwd())\n",
    "    print('Copied .dodsrc to:', os.getcwd())\n"
   ]
  },
  {
   "cell_type": "code",
   "execution_count": null,
   "metadata": {},
   "outputs": [],
   "source": []
  }
 ],
 "metadata": {
  "kernelspec": {
   "display_name": "Python 3 (ipykernel)",
   "language": "python",
   "name": "python3"
  },
  "language_info": {
   "codemirror_mode": {
    "name": "ipython",
    "version": 3
   },
   "file_extension": ".py",
   "mimetype": "text/x-python",
   "name": "python",
   "nbconvert_exporter": "python",
   "pygments_lexer": "ipython3",
   "version": "3.8.17"
  },
  "vscode": {
   "interpreter": {
    "hash": "6e2a53b7f731e108ce587957058115707d8b5b9f5409c1d7eb9760e593c87f6d"
   }
  }
 },
 "nbformat": 4,
 "nbformat_minor": 4
}
