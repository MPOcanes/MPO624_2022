{
 "cells": [
  {
   "cell_type": "markdown",
   "id": "cccfd465-0aab-4f74-b314-eeede3a0736e",
   "metadata": {},
   "source": [
    "# Dunning-Kreuger plot deconstruction \n",
    "from y-combinator web site (reddit) "
   ]
  },
  {
   "cell_type": "code",
   "execution_count": 180,
   "id": "73c2def8-a700-4258-bee2-b7fd5941ae86",
   "metadata": {},
   "outputs": [
    {
     "data": {
      "image/png": "[encoded data removed]",
      "text/plain": [
       "<Figure size 432x288 with 1 Axes>"
      ]
     },
     "metadata": {
      "needs_background": "light"
     },
     "output_type": "display_data"
    }
   ],
   "source": [
    "  import random\n",
    "  import numpy as np\n",
    "\n",
    "  np.random.seed(seed=12345)\n",
    "\n",
    "  from scipy.linalg import eigh, cholesky\n",
    "  from scipy.stats import norm\n",
    "  from matplotlib import pyplot as plt\n",
    "\n",
    "  #Draw correlated random variables\n",
    "  #Ref here: https://scipy-cookbook.readthedocs.io/items/CorrelatedRandomSamples.html\n",
    "\n",
    "  num_samples = 125 * 4                 #\n",
    "  x = norm.rvs(size=(2, num_samples)) # uncorrelated random normal variables\n",
    "\n",
    "  expected_correlation = np.array([[1.0, 0.19], [0.19, 1.0]])\n",
    "  c = cholesky(expected_correlation, lower=True) #there's a slight correlation of R = 0.19 between actual and perceived scores (according to Ackerman, 2002)\n",
    "\n",
    "  trans_x = np.dot(c, x)\n",
    "\n",
    "  #perceived / actual readings with R=0.19\n",
    "  perceived = trans_x[0, :]\n",
    "  actual = trans_x[1, :]\n",
    "\n",
    "  #Sort both variables by actual scores.\n",
    "  sort_by_actual = sorted(range(num_samples), key = lambda idx: actual[idx])\n",
    "\n",
    "  perceived_by_actual = [perceived[i] for i in sort_by_actual]\n",
    "  actual_by_actual = [actual[i] for i in sort_by_actual]\n",
    "\n",
    "  quartile_indices = [i * (num_samples // 4) for i in range(5)] #note: depends on divisiblity by four\n",
    "\n",
    "  x_coords = [xx // 2 for xx in quartile_indices[1:]] #mid-points just for plotting\n",
    "  perceived_means = [np.mean(perceived_by_actual[start:end]) for (start, end) in zip(quartile_indices[:-1], quartile_indices[1:])]\n",
    "  actual_means = [np.mean(actual_by_actual[start:end]) for (start, end) in zip(quartile_indices[:-1], quartile_indices[1:])]\n",
    "\n",
    "  #Plot\n",
    "  fig = plt.figure()\n",
    "\n",
    "  ax1 = fig.add_subplot(111)\n",
    "  plt.title(\"Dunning-Kruger\")\n",
    "\n",
    "  ax1.scatter(x_coords, perceived_means, marker=\"s\", label=\"perceived\")\n",
    "  ax1.scatter(x_coords, actual_means, marker=\"o\", label=\"true\")\n",
    "  ax1.legend()\n",
    "\n",
    "  plt.show()"
   ]
  }
 ],
 "metadata": {
  "kernelspec": {
   "display_name": "Python 3 (ipykernel)",
   "language": "python",
   "name": "python3"
  },
  "language_info": {
   "codemirror_mode": {
    "name": "ipython",
    "version": 3
   },
   "file_extension": ".py",
   "mimetype": "text/x-python",
   "name": "python",
   "nbconvert_exporter": "python",
   "pygments_lexer": "ipython3",
   "version": "3.8.12"
  }
 },
 "nbformat": 4,
 "nbformat_minor": 5
}
