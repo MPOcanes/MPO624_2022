{
 "cells": [
  {
   "cell_type": "markdown",
   "id": "19c517ba-00ce-42bb-965b-1e6804856be5",
   "metadata": {},
   "source": [
    "# Construct a URL that does an analysis\n",
    "\n",
    "by feeding it to a web service that takes long URLs as \"code\": [this PSD WRIT facility](https://psl.noaa.gov/data/atmoswrit/corr/)\n",
    "\n",
    "[Example of result](https://psl.noaa.gov/cgi-bin/data/atmoswrit/corr.proc.pl?dataset1=ERA5&tseries=NAO%3A+North+Atlantic+Oscillation+%28CRU%29+1821-present&userfile=&usertitle=&var=SST%2FSkin+T&level=1000mb&iyr1=&iyr2=&fmonth=11&fmonth2=3&leads=0&lags=0&corr=0&detrend=0&map=0&mapt=0&lat_sat=&lon_sat=&proj=All&xlat1=-90&xlat2=90&xlon1=0&xlon2=360&bottom_lon=0&custproj=Cylindrical+Equidistant&level1=1000mb&level2=100mb&colortable=default&labelc=0&contourtype=Shaded+w%2Foverlying+contours&scale=100&labelcon=1&switch=0&gridfill=0&cint=&low1=&high1=&Submit=Create+Plot)"
   ]
  },
  {
   "cell_type": "markdown",
   "id": "a950e857-c9cd-4df6-bcb0-3f99ee50aa3b",
   "metadata": {},
   "source": [
    "Let's look at that URL that makes the result: \n",
    "\n",
    "https://psl.noaa.gov/cgi-bin/data/atmoswrit/corr.proc.pl?dataset1=ERA5&tseries=NAO%3A+North+Atlantic+Oscillation+%28CRU%29+1821-present&userfile=&usertitle=&var=SST%2FSkin+T&level=1000mb&iyr1=&iyr2=&fmonth=11&fmonth2=3&leads=0&lags=0&corr=0&detrend=0&map=0&mapt=0&lat_sat=&lon_sat=&proj=All&xlat1=-90&xlat2=90&xlon1=0&xlon2=360&bottom_lon=0&custproj=Cylindrical+Equidistant&level1=1000mb&level2=100mb&colortable=default&labelc=0&contourtype=Shaded+w%2Foverlying+contours&scale=100&labelcon=1&switch=0&gridfill=0&cint=&low1=&high1=&Submit=Create+Plot"
   ]
  },
  {
   "cell_type": "code",
   "execution_count": 5,
   "id": "2ef0dc66-31e2-4d91-adcf-45dd47d6ecae",
   "metadata": {},
   "outputs": [
    {
     "name": "stdout",
     "output_type": "stream",
     "text": [
      "JRA-55 CLICK:     https://psl.noaa.gov/cgi-bin/data/atmoswrit/corr.proc.pl?dataset1=JRA-55&tseries=NAO%3A+North+Atlantic+Oscillation+%28CRU%29+1821-present&userfile=&usertitle=&var=SST%2FSkin+T&level=1000mb&iyr1=&iyr2=&fmonth=11&fmonth2=3&leads=0&lags=0&corr=0&detrend=0&map=0&mapt=0&lat_sat=&lon_sat=&proj=All&xlat1=-90&xlat2=90&xlon1=0&xlon2=360&bottom_lon=0&custproj=Cylindrical+Equidistant&level1=1000mb&level2=100mb&colortable=default&labelc=0&contourtype=Shaded+w%2Foverlying+contours&scale=100&labelcon=1&switch=0&gridfill=0&cint=&low1=&high1=&Submit=Create+Plot\n",
      "MERRA CLICK:     https://psl.noaa.gov/cgi-bin/data/atmoswrit/corr.proc.pl?dataset1=MERRA&tseries=NAO%3A+North+Atlantic+Oscillation+%28CRU%29+1821-present&userfile=&usertitle=&var=SST%2FSkin+T&level=1000mb&iyr1=&iyr2=&fmonth=11&fmonth2=3&leads=0&lags=0&corr=0&detrend=0&map=0&mapt=0&lat_sat=&lon_sat=&proj=All&xlat1=-90&xlat2=90&xlon1=0&xlon2=360&bottom_lon=0&custproj=Cylindrical+Equidistant&level1=1000mb&level2=100mb&colortable=default&labelc=0&contourtype=Shaded+w%2Foverlying+contours&scale=100&labelcon=1&switch=0&gridfill=0&cint=&low1=&high1=&Submit=Create+Plot\n"
     ]
    }
   ],
   "source": [
    "# Compare MERRA and JRA-55 by replacing ERA5 with MERRA\n",
    "\n",
    "URLpart1 = 'https://psl.noaa.gov/cgi-bin/data/atmoswrit/corr.proc.pl?dataset1='\n",
    "reanalname = 'ERA5'\n",
    "URLpart2 = '&tseries=NAO%3A+North+Atlantic+Oscillation+%28CRU%29+1821-present&userfile=&usertitle=&var=SST%2FSkin+T&level=1000mb&iyr1=&iyr2=&fmonth=11&fmonth2=3&leads=0&lags=0&corr=0&detrend=0&map=0&mapt=0&lat_sat=&lon_sat=&proj=All&xlat1=-90&xlat2=90&xlon1=0&xlon2=360&bottom_lon=0&custproj=Cylindrical+Equidistant&level1=1000mb&level2=100mb&colortable=default&labelc=0&contourtype=Shaded+w%2Foverlying+contours&scale=100&labelcon=1&switch=0&gridfill=0&cint=&low1=&high1=&Submit=Create+Plot'\n",
    "\n",
    "reanalnames = ['JRA-55','MERRA']\n",
    "for reanal in reanalnames: \n",
    "    URL = URLpart1+reanal+URLpart2\n",
    "    print(reanal, 'CLICK:    ',URL) "
   ]
  },
  {
   "cell_type": "code",
   "execution_count": null,
   "id": "c0740903-69ce-4b84-bd85-13da6243d90e",
   "metadata": {},
   "outputs": [],
   "source": []
  }
 ],
 "metadata": {
  "kernelspec": {
   "display_name": "Python 3 (ipykernel)",
   "language": "python",
   "name": "python3"
  },
  "language_info": {
   "codemirror_mode": {
    "name": "ipython",
    "version": 3
   },
   "file_extension": ".py",
   "mimetype": "text/x-python",
   "name": "python",
   "nbconvert_exporter": "python",
   "pygments_lexer": "ipython3",
   "version": "3.8.12"
  }
 },
 "nbformat": 4,
 "nbformat_minor": 5
}
