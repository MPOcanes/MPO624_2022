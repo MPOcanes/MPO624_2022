{
 "cells": [
  {
   "cell_type": "markdown",
   "id": "5a7eee3d-0ddd-4268-8e7a-0bbbf38681e2",
   "metadata": {},
   "source": [
    "# Shuffle names for assignment of screenshares\n",
    "### and format as markdown for CALENDAR.md"
   ]
  },
  {
   "cell_type": "code",
   "execution_count": 19,
   "id": "8e3168d0-8bfe-46db-9b0f-243cb639417d",
   "metadata": {},
   "outputs": [
    {
     "data": {
      "text/plain": [
       "['Elizabeth', 'Khang', 'Patrick', 'Victoria', 'Yihang', 'Yidan']"
      ]
     },
     "execution_count": 19,
     "metadata": {},
     "output_type": "execute_result"
    }
   ],
   "source": [
    "names = ['Elizabeth','Khang','Patrick','Victoria','Yihang','Yidan'] # alphabetical\n",
    "names"
   ]
  },
  {
   "cell_type": "code",
   "execution_count": 17,
   "id": "fac89d17-0855-41b6-9852-d725e6fa95f8",
   "metadata": {},
   "outputs": [
    {
     "data": {
      "text/plain": [
       "['Foundations', 'Strategy', 'Tactics', 'Foundations', 'Strategy', 'Tactics']"
      ]
     },
     "execution_count": 17,
     "metadata": {},
     "output_type": "execute_result"
    }
   ],
   "source": [
    "levels = ['Foundations','Strategy','Tactics'] # the order I want to hear them in\n",
    "levels.extend(levels)\n",
    "levels"
   ]
  },
  {
   "cell_type": "code",
   "execution_count": 12,
   "id": "165c4c2c-54a3-4cbb-a582-b6262296c2b4",
   "metadata": {},
   "outputs": [
    {
     "name": "stdout",
     "output_type": "stream",
     "text": [
      "Elizabeth\n",
      "Yihang\n",
      "Victoria\n",
      "Yidan\n",
      "Patrick\n",
      "Khang\n"
     ]
    }
   ],
   "source": [
    "for name in names: \n",
    "    print(name)"
   ]
  },
  {
   "cell_type": "code",
   "execution_count": 18,
   "id": "f0b1232f-201a-4804-9f0d-f01dd1671ae9",
   "metadata": {},
   "outputs": [
    {
     "data": {
      "text/plain": [
       "['Yihang', 'Victoria', 'Patrick', 'Khang', 'Yidan', 'Elizabeth']"
      ]
     },
     "execution_count": 18,
     "metadata": {},
     "output_type": "execute_result"
    }
   ],
   "source": [
    "# Shuffling: Nice Stackoverflow answer https://stackoverflow.com/questions/976882/shuffling-a-list-of-objects\n",
    "\n",
    "from random import shuffle\n",
    "shuffle(names) # careful: it works in place, and returns None\n",
    "names"
   ]
  },
  {
   "cell_type": "code",
   "execution_count": null,
   "id": "4eba530d-bed6-4877-8378-bda0796d0352",
   "metadata": {},
   "outputs": [],
   "source": []
  },
  {
   "cell_type": "code",
   "execution_count": null,
   "id": "63659d8c-132c-4e54-8854-8d1dcce184b6",
   "metadata": {},
   "outputs": [],
   "source": []
  },
  {
   "cell_type": "code",
   "execution_count": null,
   "id": "165a8efa-d5f1-4f64-966e-f13dc542f1a4",
   "metadata": {},
   "outputs": [],
   "source": []
  },
  {
   "cell_type": "code",
   "execution_count": null,
   "id": "9a20ce2a-ce47-46c3-b0b6-f6727dd11a02",
   "metadata": {},
   "outputs": [],
   "source": []
  }
 ],
 "metadata": {
  "kernelspec": {
   "display_name": "Python 3",
   "language": "python",
   "name": "python3"
  },
  "language_info": {
   "codemirror_mode": {
    "name": "ipython",
    "version": 3
   },
   "file_extension": ".py",
   "mimetype": "text/x-python",
   "name": "python",
   "nbconvert_exporter": "python",
   "pygments_lexer": "ipython3",
   "version": "3.9.5"
  }
 },
 "nbformat": 4,
 "nbformat_minor": 5
}
