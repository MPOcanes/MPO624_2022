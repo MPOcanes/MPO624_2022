{
 "cells": [
  {
   "cell_type": "markdown",
   "id": "5a7eee3d-0ddd-4268-8e7a-0bbbf38681e2",
   "metadata": {},
   "source": [
    "# Shuffle names for assignment of screenshares\n",
    "### and format as markdown for CALENDAR.md"
   ]
  },
  {
   "cell_type": "code",
   "execution_count": 1,
   "id": "8e3168d0-8bfe-46db-9b0f-243cb639417d",
   "metadata": {},
   "outputs": [
    {
     "data": {
      "text/plain": [
       "['Elizabeth', 'Khang', 'Patrick', 'Victoria', 'Yihang', 'Yidan']"
      ]
     },
     "execution_count": 1,
     "metadata": {},
     "output_type": "execute_result"
    }
   ],
   "source": [
    "names = ['Elizabeth','Khang','Patrick','Victoria','Yihang','Yidan'] # alphabetical\n",
    "names"
   ]
  },
  {
   "cell_type": "code",
   "execution_count": 59,
   "id": "f0b1232f-201a-4804-9f0d-f01dd1671ae9",
   "metadata": {},
   "outputs": [
    {
     "data": {
      "text/plain": [
       "['Patrick', 'Victoria', 'Yidan', 'Khang', 'Yihang', 'Elizabeth']"
      ]
     },
     "execution_count": 59,
     "metadata": {},
     "output_type": "execute_result"
    }
   ],
   "source": [
    "# Shuffling: Nice Stackoverflow answer https://stackoverflow.com/questions/976882/shuffling-a-list-of-objects\n",
    "\n",
    "from random import shuffle\n",
    "shuffle(names) # careful: it works in place, and returns None\n",
    "names"
   ]
  },
  {
   "cell_type": "code",
   "execution_count": 60,
   "id": "fac89d17-0855-41b6-9852-d725e6fa95f8",
   "metadata": {},
   "outputs": [
    {
     "data": {
      "text/plain": [
       "['Foundations', 'Strategy', 'Tactics', 'Foundations', 'Strategy', 'Tactics']"
      ]
     },
     "execution_count": 60,
     "metadata": {},
     "output_type": "execute_result"
    }
   ],
   "source": [
    "levels = ['Foundations','Strategy','Tactics'] # the order I want to hear them in\n",
    "levels.extend(levels)\n",
    "levels"
   ]
  },
  {
   "cell_type": "code",
   "execution_count": 61,
   "id": "21fb315a-9c7e-4220-a2d7-44884e0b1460",
   "metadata": {},
   "outputs": [
    {
     "name": "stdout",
     "output_type": "stream",
     "text": [
      "Foundations : Elizabeth\n",
      "Strategy : Khang\n",
      "Tactics : Victoria\n",
      "Foundations : Yihang\n",
      "Strategy : Yidan\n",
      "Tactics : Patrick\n",
      "Foundations : Victoria\n",
      "Strategy : Khang\n",
      "Tactics : Elizabeth\n",
      "Foundations : Yidan\n",
      "Strategy : Yihang\n",
      "Tactics : Patrick\n",
      "Foundations : Yidan\n",
      "Strategy : Elizabeth\n",
      "Tactics : Yihang\n",
      "Foundations : Victoria\n",
      "Strategy : Patrick\n",
      "Tactics : Khang\n",
      "Foundations : Victoria\n",
      "Strategy : Khang\n",
      "Tactics : Yihang\n",
      "Foundations : Elizabeth\n",
      "Strategy : Patrick\n",
      "Tactics : Yidan\n",
      "Foundations : Yidan\n",
      "Strategy : Elizabeth\n",
      "Tactics : Khang\n",
      "Foundations : Yihang\n",
      "Strategy : Patrick\n",
      "Tactics : Victoria\n",
      "Foundations : Yidan\n",
      "Strategy : Elizabeth\n",
      "Tactics : Khang\n",
      "Foundations : Victoria\n",
      "Strategy : Patrick\n",
      "Tactics : Yihang\n",
      "Foundations : Elizabeth\n",
      "Strategy : Khang\n",
      "Tactics : Yidan\n",
      "Foundations : Patrick\n",
      "Strategy : Yihang\n",
      "Tactics : Victoria\n",
      "Foundations : Yidan\n",
      "Strategy : Elizabeth\n",
      "Tactics : Khang\n",
      "Foundations : Victoria\n",
      "Strategy : Yihang\n",
      "Tactics : Patrick\n",
      "Foundations : Yihang\n",
      "Strategy : Yidan\n",
      "Tactics : Patrick\n",
      "Foundations : Khang\n",
      "Strategy : Elizabeth\n",
      "Tactics : Victoria\n",
      "Foundations : Elizabeth\n",
      "Strategy : Khang\n",
      "Tactics : Yihang\n",
      "Foundations : Patrick\n",
      "Strategy : Yidan\n",
      "Tactics : Victoria\n",
      "Foundations : Elizabeth\n",
      "Strategy : Patrick\n",
      "Tactics : Victoria\n",
      "Foundations : Khang\n",
      "Strategy : Yidan\n",
      "Tactics : Yihang\n",
      "Foundations : Victoria\n",
      "Strategy : Elizabeth\n",
      "Tactics : Yidan\n",
      "Foundations : Yihang\n",
      "Strategy : Khang\n",
      "Tactics : Patrick\n"
     ]
    }
   ],
   "source": [
    "for w in range(12):\n",
    "    shuffle(names)\n",
    "    for i, val in enumerate(levels):\n",
    "        print (val, \":\", names[i])\n"
   ]
  },
  {
   "cell_type": "code",
   "execution_count": null,
   "id": "63659d8c-132c-4e54-8854-8d1dcce184b6",
   "metadata": {},
   "outputs": [],
   "source": [
    "# Used emacs editor macro to put into CALENDAR.md"
   ]
  },
  {
   "cell_type": "code",
   "execution_count": null,
   "id": "165a8efa-d5f1-4f64-966e-f13dc542f1a4",
   "metadata": {},
   "outputs": [],
   "source": []
  },
  {
   "cell_type": "code",
   "execution_count": null,
   "id": "9a20ce2a-ce47-46c3-b0b6-f6727dd11a02",
   "metadata": {},
   "outputs": [],
   "source": [
    "3 |  |  | Feb 1-3\n",
    "4 |  |  | Feb 8-10\n",
    "5 |  |  | Feb 15-17\n",
    "6 |  |  | Feb 22-24\n",
    "7 |  |  | Feb 25-27\n",
    "8 |  |  | Mar 1-3\n",
    "9 |  |  | Mar 8-10\n",
    "10|  |  | Mar 15-17\n",
    "11|  |  | Mar 22-24\n",
    "12|  |  | Mar 29-31\n",
    "13|  |  | Apr 5-7\n",
    "14|  |  | Apr 12-14\n",
    "15|  |  | Apr 19-21\n",
    "16|  |  | Apr 26-28\n",
    "17|  |  | May 3-5"
   ]
  }
 ],
 "metadata": {
  "kernelspec": {
   "display_name": "Python 3 (ipykernel)",
   "language": "python",
   "name": "python3"
  },
  "language_info": {
   "codemirror_mode": {
    "name": "ipython",
    "version": 3
   },
   "file_extension": ".py",
   "mimetype": "text/x-python",
   "name": "python",
   "nbconvert_exporter": "python",
   "pygments_lexer": "ipython3",
   "version": "3.8.12"
  }
 },
 "nbformat": 4,
 "nbformat_minor": 5
}
