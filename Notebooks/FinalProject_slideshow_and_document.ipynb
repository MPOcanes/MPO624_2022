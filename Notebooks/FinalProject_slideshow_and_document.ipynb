{
 "cells": [
  {
   "cell_type": "markdown",
   "metadata": {
    "slideshow": {
     "slide_type": "slide"
    }
   },
   "source": [
    "# <span style=\"color:#0000aa\">MPO624 final project: ________________</span>\n",
    "\n",
    "<span style=\"color:green\">Student name</span>\n",
    "\n",
    "Spring 2022 \n",
    "\n",
    "[Jump to conclusions](#conclusions)"
   ]
  },
  {
   "cell_type": "markdown",
   "metadata": {
    "slideshow": {
     "slide_type": "skip"
    }
   },
   "source": [
    "# This cell is marked as a \"Skip\" slide "
   ]
  },
  {
   "cell_type": "markdown",
   "metadata": {
    "slideshow": {
     "slide_type": "notes"
    }
   },
   "source": [
    "# This cell is marked as \"Notes\" \n",
    "\n",
    "### These slideshow markers are only seeable in http://localhost:8888/tree \n",
    "\n",
    "### Not in http://localhost:8888/lab (Jupyter Lab)\n",
    "\n",
    "- **localhost:8888/tree** is what you get when you launch `jupyter notebook` instead of `jupyter lab` \n",
    "\n",
    "- but you can also manually enter it in another browser tab while using **localhost:888/lab**"
   ]
  },
  {
   "cell_type": "markdown",
   "metadata": {
    "slideshow": {
     "slide_type": "slide"
    }
   },
   "source": [
    "# Next slide - see how you could skip the sub-slide?\n"
   ]
  },
  {
   "cell_type": "markdown",
   "metadata": {
    "slideshow": {
     "slide_type": "subslide"
    }
   },
   "source": [
    "## What is a Sub-slide?\n",
    "\n",
    "- A sub-slide appears below the main slide\n",
    "\n",
    "- You can optionally skip it during presentation by using right-arrow \n",
    "\n",
    "- a little navigation icon at lower right shows you it exists "
   ]
  },
  {
   "cell_type": "markdown",
   "metadata": {
    "slideshow": {
     "slide_type": "fragment"
    }
   },
   "source": [
    "## What is a *fragment*? \n",
    "\n",
    "This fragment appears after one click on its main slide "
   ]
  },
  {
   "cell_type": "markdown",
   "metadata": {
    "slideshow": {
     "slide_type": "slide"
    }
   },
   "source": [
    "## In this way, a readable notebook can also be a presentation\n",
    "\n",
    "### \"literate programming\" (notebook) is also \"presentation programming\" \n",
    "\n",
    "## Style is needed! \n",
    "\n",
    "   "
   ]
  },
  {
   "cell_type": "markdown",
   "metadata": {
    "slideshow": {
     "slide_type": "fragment"
    }
   },
   "source": [
    "*Jupyter is not just an environment for hacking out an answer in code!* "
   ]
  },
  {
   "cell_type": "markdown",
   "metadata": {
    "slideshow": {
     "slide_type": "slide"
    }
   },
   "source": [
    "<a id=\"conclusions\"></a>\n",
    "\n",
    "# Conclusions\n",
    "\n",
    "- My project was based on (idea) suggested by exploration of the data\n",
    "\n",
    "\n",
    "- (data) were used to estimate (finding) as a test of that idea\n",
    "\n",
    "    - finding2, finding3\n",
    "\n",
    "\n",
    "- The result is significant: credible-interval limits exclude (null hypothesis)\n",
    "\n",
    "\n",
    "- This workflow, presentation, and writeup are available on my GitHub page: https://github.com/xxxxx\n",
    "\n",
    "\n",
    "\n",
    "\n",
    "**Questions? Contact me at:**\n",
    "\n",
    "\n",
    "- Name - contact info "
   ]
  },
  {
   "cell_type": "code",
   "execution_count": null,
   "metadata": {},
   "outputs": [],
   "source": []
  }
 ],
 "metadata": {
  "celltoolbar": "Slideshow",
  "kernelspec": {
   "display_name": "Python 3 (ipykernel)",
   "language": "python",
   "name": "python3"
  },
  "language_info": {
   "codemirror_mode": {
    "name": "ipython",
    "version": 3
   },
   "file_extension": ".py",
   "mimetype": "text/x-python",
   "name": "python",
   "nbconvert_exporter": "python",
   "pygments_lexer": "ipython3",
   "version": "3.8.12"
  }
 },
 "nbformat": 4,
 "nbformat_minor": 4
}
