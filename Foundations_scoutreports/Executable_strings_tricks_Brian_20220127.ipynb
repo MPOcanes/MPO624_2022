{
 "cells": [
  {
   "cell_type": "markdown",
   "id": "096cf564-c47d-4666-9f53-7cc29e0fb267",
   "metadata": {
    "tags": []
   },
   "source": [
    "# Examples of Python string construction and execution\n",
    "\n",
    "## Can be a very useful trick, or even a good habit (safe plot labeling!)\n",
    "\n",
    "    1. Build URLs for repetitive Web work\n",
    "    2. eval(codestring) and exec(codestring) **safe plot titling!**\n",
    "    3. system command string execution\n",
    "    4. Markdown display of constructed formatted material"
   ]
  },
  {
   "cell_type": "markdown",
   "id": "dbc76287-1558-4560-b2e6-2575e5488e94",
   "metadata": {},
   "source": [
    "# Example 1. URL construction"
   ]
  },
  {
   "cell_type": "markdown",
   "id": "19c517ba-00ce-42bb-965b-1e6804856be5",
   "metadata": {},
   "source": [
    "## Example 1a: Construct a code-containing URL that does an analysis\n",
    "\n",
    "by feeding it to a web service that takes long URLs as \"code\": [this PSD WRIT facility](https://psl.noaa.gov/data/atmoswrit/corr/)"
   ]
  },
  {
   "cell_type": "markdown",
   "id": "a950e857-c9cd-4df6-bcb0-3f99ee50aa3b",
   "metadata": {},
   "source": [
    "Here is a URL that makes a result:\n",
    "\n",
    "https://psl.noaa.gov/cgi-bin/data/atmoswrit/corr.proc.pl?dataset1=ERA5&tseries=NAO%3A+North+Atlantic+Oscillation+%28CRU%29+1821-present&userfile=&usertitle=&var=SST%2FSkin+T&level=1000mb&iyr1=&iyr2=&fmonth=11&fmonth2=3&leads=0&lags=0&corr=0&detrend=0&map=0&mapt=0&lat_sat=&lon_sat=&proj=All&xlat1=-90&xlat2=90&xlon1=0&xlon2=360&bottom_lon=0&custproj=Cylindrical+Equidistant&level1=1000mb&level2=100mb&colortable=default&labelc=0&contourtype=Shaded+w%2Foverlying+contours&scale=100&labelcon=1&switch=0&gridfill=0&cint=&low1=&high1=&Submit=Create+Plot"
   ]
  },
  {
   "cell_type": "code",
   "execution_count": 6,
   "id": "2ef0dc66-31e2-4d91-adcf-45dd47d6ecae",
   "metadata": {},
   "outputs": [
    {
     "name": "stdout",
     "output_type": "stream",
     "text": [
      "JRA-55 CLICK:     https://psl.noaa.gov/cgi-bin/data/atmoswrit/corr.proc.pl?dataset1=JRA-55&tseries=NAO%3A+North+Atlantic+Oscillation+%28CRU%29+1821-present&userfile=&usertitle=&var=SST%2FSkin+T&level=1000mb&iyr1=&iyr2=&fmonth=11&fmonth2=3&leads=0&lags=0&corr=0&detrend=0&map=0&mapt=0&lat_sat=&lon_sat=&proj=All&xlat1=-90&xlat2=90&xlon1=0&xlon2=360&bottom_lon=0&custproj=Cylindrical+Equidistant&level1=1000mb&level2=100mb&colortable=default&labelc=0&contourtype=Shaded+w%2Foverlying+contours&scale=100&labelcon=1&switch=0&gridfill=0&cint=&low1=&high1=&Submit=Create+Plot\n",
      "MERRA CLICK:     https://psl.noaa.gov/cgi-bin/data/atmoswrit/corr.proc.pl?dataset1=MERRA&tseries=NAO%3A+North+Atlantic+Oscillation+%28CRU%29+1821-present&userfile=&usertitle=&var=SST%2FSkin+T&level=1000mb&iyr1=&iyr2=&fmonth=11&fmonth2=3&leads=0&lags=0&corr=0&detrend=0&map=0&mapt=0&lat_sat=&lon_sat=&proj=All&xlat1=-90&xlat2=90&xlon1=0&xlon2=360&bottom_lon=0&custproj=Cylindrical+Equidistant&level1=1000mb&level2=100mb&colortable=default&labelc=0&contourtype=Shaded+w%2Foverlying+contours&scale=100&labelcon=1&switch=0&gridfill=0&cint=&low1=&high1=&Submit=Create+Plot\n"
     ]
    }
   ],
   "source": [
    "# After studying the URL, find its key inputs. \n",
    "# Edit thoe key parts of that URL, for example here replacing only the data product name\n",
    "\n",
    "URLpart1 = 'https://psl.noaa.gov/cgi-bin/data/atmoswrit/corr.proc.pl?dataset1='\n",
    "oldname = 'ERA5'\n",
    "URLpart2 = '&tseries=NAO%3A+North+Atlantic+Oscillation+%28CRU%29+1821-present&userfile=&usertitle=&var=SST%2FSkin+T&level=1000mb&iyr1=&iyr2=&fmonth=11&fmonth2=3&leads=0&lags=0&corr=0&detrend=0&map=0&mapt=0&lat_sat=&lon_sat=&proj=All&xlat1=-90&xlat2=90&xlon1=0&xlon2=360&bottom_lon=0&custproj=Cylindrical+Equidistant&level1=1000mb&level2=100mb&colortable=default&labelc=0&contourtype=Shaded+w%2Foverlying+contours&scale=100&labelcon=1&switch=0&gridfill=0&cint=&low1=&high1=&Submit=Create+Plot'\n",
    "\n",
    "reanalnames = ['JRA-55','MERRA']\n",
    "for reanal in reanalnames: \n",
    "    URL = URLpart1+reanal+URLpart2\n",
    "    print(reanal, 'CLICK:    ',URL) "
   ]
  },
  {
   "cell_type": "code",
   "execution_count": null,
   "id": "305c0839",
   "metadata": {},
   "outputs": [],
   "source": []
  },
  {
   "cell_type": "markdown",
   "id": "fba5eda9",
   "metadata": {},
   "source": [
    "# Example 1b: change time or spatial box of satellite imagery browser\n",
    "\n",
    "Example URL: it can be much longer, with more overlay fields, custom color bars, etc. \n",
    "Create the view you want on this incredible interactive imagery browse service, then capture its URL:\n",
    "\n",
    "https://worldview.earthdata.nasa.gov/?v=-94.50515992869263,20.02845381519895,-48.06226752265279,42.814497901912254&t=2018-03-29-T19%3A55%3A05Z"
   ]
  },
  {
   "cell_type": "code",
   "execution_count": 8,
   "id": "f0f3b0de-e3d6-45c2-8d69-af0838c5b004",
   "metadata": {
    "scrolled": true
   },
   "outputs": [
    {
     "name": "stdout",
     "output_type": "stream",
     "text": [
      "https://worldview.earthdata.nasa.gov/?v=-94.50515992869263,20.02845381519895,-48.06226752265279,42.814497901912254&t=2012-03-29-T19%3A55%3A05Z\n",
      "https://worldview.earthdata.nasa.gov/?v=-94.50515992869263,20.02845381519895,-48.06226752265279,42.814497901912254&t=2013-03-29-T19%3A55%3A05Z\n",
      "https://worldview.earthdata.nasa.gov/?v=-94.50515992869263,20.02845381519895,-48.06226752265279,42.814497901912254&t=2014-03-29-T19%3A55%3A05Z\n"
     ]
    }
   ],
   "source": [
    "# CHOP UP THE STRING and replace the part you want to (like year)\n",
    "\n",
    "part1 = 'https://worldview.earthdata.nasa.gov/?v=-94.50515992869263,20.02845381519895,-48.06226752265279,42.814497901912254&t='\n",
    "year = '2018'\n",
    "day = '-03-29'\n",
    "part2 = '-T19%3A55%3A05Z'\n",
    "\n",
    "years = ['2012','2013','2014']\n",
    "for yyyy in years: \n",
    "    print(part1 + yyyy + day + part2)\n",
    "    \n",
    "# Result below: clickable links! At least within jupyter. \n",
    "# Are they clickable on github or nbviewer static renderings? \n",
    "# If not, may need another trick, like #4 below.  "
   ]
  },
  {
   "cell_type": "markdown",
   "id": "670847f0-eea9-433d-a85c-622d067db462",
   "metadata": {},
   "source": [
    "# Example 2a. Python eval() of constructed code string\n",
    "\n",
    "## The Python is executed -- and you have the identical string for your plot title!\n",
    "### Very safe -- may save you terrible future science embarrassments from mislabeled plots. "
   ]
  },
  {
   "cell_type": "code",
   "execution_count": 9,
   "id": "b7c2a014-60cb-4d07-b443-8775a09b710c",
   "metadata": {},
   "outputs": [
    {
     "name": "stdout",
     "output_type": "stream",
     "text": [
      "%pylab is deprecated, use %matplotlib inline and import the required libraries.\n",
      "Populating the interactive namespace from numpy and matplotlib\n"
     ]
    },
    {
     "data": {
      "text/plain": [
       "Text(0.5, 1.0, 'data**3 - 1.5*data')"
      ]
     },
     "execution_count": 9,
     "metadata": {},
     "output_type": "execute_result"
    },
    {
     "data": {
      "image/png": "[encoded data removed]",
      "text/plain": [
       "<Figure size 432x288 with 1 Axes>"
      ]
     },
     "metadata": {
      "needs_background": "light"
     },
     "output_type": "display_data"
    }
   ],
   "source": [
    "# https://stackoverflow.com/questions/701802/how-do-i-execute-a-string-containing-python-code-in-python\n",
    "\n",
    "# %pylab is called an ipython \"magic\". It is deprecated, but useful for quickie analysis.....\n",
    "\n",
    "%pylab inline \n",
    "data = np.array( [0,1,2,3,4,5,6] )\n",
    "\n",
    "# a string (for filenames or plot titles) is also the actual code to make it happen: safe plotting!\n",
    "derived = 'data**3 - 1.5*data'\n",
    "\n",
    "plot( eval(derived) )\n",
    "plt.title(derived)"
   ]
  },
  {
   "cell_type": "markdown",
   "id": "7a2b3833",
   "metadata": {},
   "source": [
    "# Example 2b. Python exec() is like eval(), but does not return anything"
   ]
  },
  {
   "cell_type": "code",
   "execution_count": 10,
   "id": "eba78762-1b31-4cd6-b6b6-8d11f50d4d44",
   "metadata": {},
   "outputs": [
    {
     "name": "stdout",
     "output_type": "stream",
     "text": [
      "4\n"
     ]
    }
   ],
   "source": [
    "doit = \"print(4)\" \n",
    "exec(doit)"
   ]
  },
  {
   "cell_type": "code",
   "execution_count": 11,
   "id": "429034fe-7136-44d1-b4ca-7d88003fb520",
   "metadata": {},
   "outputs": [
    {
     "name": "stdout",
     "output_type": "stream",
     "text": [
      "4\n"
     ]
    }
   ],
   "source": [
    "printit = \"2*2\"\n",
    "print( eval(printit) )"
   ]
  },
  {
   "cell_type": "markdown",
   "id": "bef559b0-4ef2-48e8-be08-e7f3f0f8b7b4",
   "metadata": {},
   "source": [
    "# Example 3: System execution of a command string\n",
    "\n",
    "https://stackoverflow.com/questions/4760215/running-shell-command-and-capturing-the-output"
   ]
  },
  {
   "cell_type": "code",
   "execution_count": 66,
   "id": "ddffef93-611e-4fe2-b074-e1e16dbb69d1",
   "metadata": {},
   "outputs": [
    {
     "name": "stdout",
     "output_type": "stream",
     "text": [
      "total 584\n",
      "  0 \u001b[34mAmericanMetSoc_AI-ML_trainings\u001b[m\u001b[m       32 Pythia_quickstart.ipynb\n",
      "152 Brian_India_Soundings.ipynb           8 README.md\n",
      " 56 Executable_strings_tricks.ipynb      16 ShuffleStudentAssignments.ipynb\n",
      "176 Jupyter Notebook Users Manual.ipynb 144 TornadosClosestToRadars.ipynb\n"
     ]
    }
   ],
   "source": [
    "# This is the quick way to execute a command in the shell environment \n",
    "# common use case:   !pip install package  makes your notebook executable \n",
    "# in a non-prepared environment (like on Colab) \n",
    "!ls -s"
   ]
  },
  {
   "cell_type": "code",
   "execution_count": 80,
   "id": "578740b0-d064-4e01-9669-197579285c6d",
   "metadata": {},
   "outputs": [
    {
     "data": {
      "text/plain": [
       "['ShuffleStudentAssignments.ipynb',\n",
       " 'Jupyter Notebook Users Manual.ipynb',\n",
       " 'Brian_India_Soundings.ipynb',\n",
       " 'TornadosClosestToRadars.ipynb',\n",
       " 'README.md',\n",
       " 'Executable_strings_tricks.ipynb',\n",
       " 'AmericanMetSoc_AI-ML_trainings',\n",
       " '.ipynb_checkpoints',\n",
       " 'Pythia_quickstart.ipynb']"
      ]
     },
     "execution_count": 80,
     "metadata": {},
     "output_type": "execute_result"
    }
   ],
   "source": [
    "# The os module works identically in Linux, PC, etc. \n",
    "# https://docs.python.org/3/library/os.html?highlight=os#module-os\n",
    "\n",
    "import os\n",
    "files = os.listdir() # returns the result as a list of strings, I notice \n",
    "files"
   ]
  },
  {
   "cell_type": "code",
   "execution_count": 71,
   "id": "5b53e56e-3dbf-4c13-8531-54bc761b53bc",
   "metadata": {},
   "outputs": [
    {
     "data": {
      "text/plain": [
       "CompletedProcess(args='ls', returncode=0)"
      ]
     },
     "execution_count": 71,
     "metadata": {},
     "output_type": "execute_result"
    },
    {
     "name": "stdout",
     "output_type": "stream",
     "text": [
      "AmericanMetSoc_AI-ML_trainings\n",
      "Brian_India_Soundings.ipynb\n",
      "Executable_strings_tricks.ipynb\n",
      "Jupyter Notebook Users Manual.ipynb\n",
      "Pythia_quickstart.ipynb\n",
      "README.md\n",
      "ShuffleStudentAssignments.ipynb\n",
      "TornadosClosestToRadars.ipynb\n"
     ]
    }
   ],
   "source": [
    "#https://docs.python.org/3/library/subprocess.html#module-subprocess\n",
    "\n",
    "import subprocess\n",
    "subprocess.run(\"ls\")"
   ]
  },
  {
   "cell_type": "code",
   "execution_count": null,
   "id": "15ddad93-5da3-4e16-97c1-987a8b499c40",
   "metadata": {},
   "outputs": [],
   "source": []
  },
  {
   "cell_type": "markdown",
   "id": "600bfaf4-562c-4761-8fdb-179f27f0cc19",
   "metadata": {},
   "source": [
    "# Example 4: Build some markdown string, and execute it"
   ]
  },
  {
   "cell_type": "code",
   "execution_count": 5,
   "id": "c0740903-69ce-4b84-bd85-13da6243d90e",
   "metadata": {},
   "outputs": [
    {
     "data": {
      "text/markdown": [
       "# Equation: $\\omega = 0$"
      ],
      "text/plain": [
       "<IPython.core.display.Markdown object>"
      ]
     },
     "metadata": {},
     "output_type": "display_data"
    }
   ],
   "source": [
    "from IPython.display import display, Markdown\n",
    "\n",
    "my_formatted_text = '# Equation: $\\omega = 0$'\n",
    "display(Markdown(my_formatted_text))"
   ]
  },
  {
   "cell_type": "code",
   "execution_count": null,
   "id": "872f96aa-211d-459c-8c74-b762dacc0d40",
   "metadata": {},
   "outputs": [],
   "source": []
  }
 ],
 "metadata": {
  "kernelspec": {
   "display_name": "Python 3 (ipykernel)",
   "language": "python",
   "name": "python3"
  },
  "language_info": {
   "codemirror_mode": {
    "name": "ipython",
    "version": 3
   },
   "file_extension": ".py",
   "mimetype": "text/x-python",
   "name": "python",
   "nbconvert_exporter": "python",
   "pygments_lexer": "ipython3",
   "version": "3.8.12"
  }
 },
 "nbformat": 4,
 "nbformat_minor": 5
}
