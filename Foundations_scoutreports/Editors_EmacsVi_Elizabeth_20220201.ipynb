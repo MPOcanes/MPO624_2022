{
 "cells": [
  {
   "cell_type": "markdown",
   "id": "19ccd182-050d-48fb-be07-37fe4a266074",
   "metadata": {},
   "source": [
    "## Emacs vs Vi"
   ]
  },
  {
   "cell_type": "markdown",
   "id": "3f8a703d-2dd8-41c6-885e-ee10b01a6189",
   "metadata": {},
   "source": [
    "According to Wiki, this is actually called \"the editor war\". It is a rivalry between Emacs and vi users."
   ]
  },
  {
   "cell_type": "markdown",
   "id": "4f7d5c50-77d7-4d5f-9f0a-4d1e59531690",
   "metadata": {},
   "source": [
    "\"There is a set of polarizing topics that mere mortals will never understand, but for techies they cause divorces, break-up friendships, and create personality complexes that top psychologists have trouble resolving.\" -https://cmd.com/blog/vim-or-emacs-the-debate-is-over/"
   ]
  },
  {
   "cell_type": "markdown",
   "id": "328107ae-f64c-4cc8-b0ef-d426a7202175",
   "metadata": {
    "tags": []
   },
   "source": [
    "This is what happened when I typed emacs into Google:"
   ]
  },
  {
   "cell_type": "markdown",
   "id": "52274392-7938-418c-ad92-4b7b695bfa85",
   "metadata": {},
   "source": [
    "![EMACS](emacs.png)"
   ]
  },
  {
   "cell_type": "markdown",
   "id": "e217d8e8-9f77-45b0-99cb-399d17371c2c",
   "metadata": {},
   "source": [
    "Emacs and vi (now called Vim sometimes, and now there's a Neovim) are text editors that are useful for coding, editing files, and helping to work through your coding projects."
   ]
  },
  {
   "cell_type": "markdown",
   "id": "310b163b-1b98-4954-a09e-f6743ab5978b",
   "metadata": {},
   "source": [
    "#### Emacs:"
   ]
  },
  {
   "cell_type": "markdown",
   "id": "89359c3b-c345-4f77-b439-acb64e9049c6",
   "metadata": {},
   "source": [
    "Tutorial & Download: https://www.gnu.org/software/emacs/download.html"
   ]
  },
  {
   "cell_type": "markdown",
   "id": "3ed0521b-66a5-4fa6-b3f0-0204d9973de3",
   "metadata": {},
   "source": [
    "- straightforward\n",
    "- similar to other text editors like Notepad\n",
    "- people used to say it's \"bloated\", but nowadays it's lightweight in comparison\n",
    "- apparently has a long startup time\n",
    "- nano is a non-GUI version"
   ]
  },
  {
   "cell_type": "markdown",
   "id": "4a36313b-e9e9-4728-aa03-a8141f64e26f",
   "metadata": {},
   "source": [
    "![Emacstutorial](emacstut.png)"
   ]
  },
  {
   "cell_type": "markdown",
   "id": "4810e972-f6e0-4e9e-9794-61bead88c86a",
   "metadata": {},
   "source": [
    "#### Vim:"
   ]
  },
  {
   "cell_type": "markdown",
   "id": "9418a741-afcd-4c1b-961c-6fef24bfa357",
   "metadata": {},
   "source": [
    "Tutorial: https://www.openvim.com/\n",
    "Download: https://www.vim.org/download.php"
   ]
  },
  {
   "cell_type": "markdown",
   "id": "cd80d965-90be-4647-b812-f8c40392b8e7",
   "metadata": {},
   "source": [
    "- Vim is the newer improved version of vi, so their often used interchangably\n",
    "- steeper learning curve\n",
    "- keyboard shortcuts\n",
    "- once it's learned, you can work faster\n",
    "- some people say that you really have to be excellent to be this efficient\n",
    "- some argue it is more powerful than emacs\n",
    "- according to cmd website, 93% of users actually use vim"
   ]
  },
  {
   "cell_type": "markdown",
   "id": "3ffd086e-0053-4fbb-816e-2afed67b55db",
   "metadata": {},
   "source": [
    "![Vimtutorial](vimtut.png)"
   ]
  },
  {
   "cell_type": "markdown",
   "id": "de30dba5-135f-4796-9363-8b145c2e9bf4",
   "metadata": {},
   "source": [
    "![VimCheatSheet](vimcheat.gif)"
   ]
  },
  {
   "cell_type": "markdown",
   "id": "358bc8e5-c955-4875-9104-8b05cf4a102d",
   "metadata": {},
   "source": [
    "![learningcurves](learningcurves.png)"
   ]
  },
  {
   "cell_type": "markdown",
   "id": "02ec4779-3a64-4b82-882f-1bc76f8a9831",
   "metadata": {},
   "source": [
    "#### Both:"
   ]
  },
  {
   "cell_type": "markdown",
   "id": "d5cc135d-f951-410a-8e8f-20040900990c",
   "metadata": {},
   "source": [
    "- very customizable\n",
    "- free\n",
    "- available everywhere\n",
    "- can function as IDEs\n",
    "- have graphical interfaces"
   ]
  },
  {
   "cell_type": "markdown",
   "id": "7480a5cb-f39d-421d-aa42-4b2d5e9ecbf4",
   "metadata": {
    "tags": []
   },
   "source": [
    "#### My own personal experience:"
   ]
  },
  {
   "cell_type": "markdown",
   "id": "2059f928-2bb7-4e10-a3ce-e4ba597953d4",
   "metadata": {},
   "source": [
    "- after my research, emacs seemed like the right choice for me\n",
    "- I've seen a nasty fight in our department about vim and also I'm a straightforward kind of person\n",
    "- something is not working properly on the GNU website, so I could not try it out, or provide a screenshare for this class\n",
    "- I did not like the vim tutorial\n",
    "- this was to be expected, as I haven't really had the time to learn the editor"
   ]
  },
  {
   "cell_type": "markdown",
   "id": "4fbf99ce-0fe3-47d1-bcbc-9f961e2bbacd",
   "metadata": {},
   "source": [
    "#### Why do people even still use these?"
   ]
  },
  {
   "cell_type": "markdown",
   "id": "3922c424-e277-48b1-be91-7d8d7bba903d",
   "metadata": {},
   "source": [
    "- there is a comfort level\n",
    "- one article described it as the old enemies coming together to fight new enemy: the modern IDE\n",
    "- for some beginner coders, a modern IDE has too many \"fluffs\" to be useful"
   ]
  },
  {
   "cell_type": "markdown",
   "id": "2297022f-6658-49b3-a2a6-346be8c953a7",
   "metadata": {},
   "source": [
    "#### Should we \"move on\"?"
   ]
  },
  {
   "cell_type": "markdown",
   "id": "a0cd33a2-b0c8-4d0e-994b-7e01757c06f5",
   "metadata": {},
   "source": [
    "- modern IDEs are incredibly powerful resources that can create whole new worlds\n",
    "- very customizable\n",
    "- use multiple languages and programs\n",
    "- can be useful for beginners with code completion, often linked to Github for help\n",
    "- Jupyter is an editor, and we already know how to use it! There are other editors besides notebooks"
   ]
  },
  {
   "cell_type": "markdown",
   "id": "05234c5c-0c06-46ff-a189-d70f6294ad09",
   "metadata": {},
   "source": [
    "The best advice to anyone struggling with choosing a preferred program is to just use the tools available to get the job done. Or, as the popular 20th century poets TLC so deftly declared, “Don’t go chasing waterfalls, please stick to the Vims and Emacs that you’re used to.” - https://stackoverflow.blog/2020/11/09/modern-ide-vs-vim-emacs/"
   ]
  },
  {
   "cell_type": "markdown",
   "id": "4e94d861-4745-4022-90c5-de4735987256",
   "metadata": {},
   "source": [
    "#### Resources:"
   ]
  },
  {
   "cell_type": "markdown",
   "id": "87e72a2e-8724-40dd-8508-2f75e7ebd322",
   "metadata": {},
   "source": [
    "https://en.wikipedia.org/wiki/Editor_war"
   ]
  },
  {
   "cell_type": "markdown",
   "id": "0264aa95-2a85-4de7-879d-19dd3f5c01f4",
   "metadata": {},
   "source": [
    "https://cmd.com/blog/vim-or-emacs-the-debate-is-over/"
   ]
  },
  {
   "cell_type": "markdown",
   "id": "297078c1-326c-48a5-924f-d3089c4f2eaf",
   "metadata": {},
   "source": [
    "https://unix.stackexchange.com/questions/986/what-are-the-pros-and-cons-of-vim-and-emacs"
   ]
  },
  {
   "cell_type": "markdown",
   "id": "1efb7567-2c8f-4f5c-8141-af6c51ee34eb",
   "metadata": {},
   "source": [
    "https://stackoverflow.blog/2020/11/09/modern-ide-vs-vim-emacs/"
   ]
  },
  {
   "cell_type": "markdown",
   "id": "857ab139-1b43-49e5-93b2-d768f917e934",
   "metadata": {},
   "source": [
    "https://opensource.com/resources/what-emacs"
   ]
  },
  {
   "cell_type": "markdown",
   "id": "6335717b-a066-4e6a-a3a2-9916f66c60a3",
   "metadata": {},
   "source": [
    "https://www.vim.org/"
   ]
  },
  {
   "cell_type": "markdown",
   "id": "9181c630-c017-467b-bb9a-ce84bff3a8ac",
   "metadata": {},
   "source": [
    "## Sidenote"
   ]
  },
  {
   "cell_type": "markdown",
   "id": "b2d3c44c-267c-4a27-96a5-8d6ce96aed01",
   "metadata": {},
   "source": [
    "Here is how you can add an image into a Jupyter Notebook:"
   ]
  },
  {
   "cell_type": "markdown",
   "id": "0863ac7d-b808-45d2-a63b-ff5cd93ce923",
   "metadata": {},
   "source": [
    "Using a markdown cell, type:"
   ]
  },
  {
   "cell_type": "raw",
   "id": "e1fa24c0-e2b9-42a2-9aeb-8e8715917d57",
   "metadata": {},
   "source": [
    "![Nameofimage](imagename.filetype)"
   ]
  },
  {
   "cell_type": "markdown",
   "id": "4a6583f5-d606-4fa0-9206-711836ce1a28",
   "metadata": {},
   "source": [
    "You can also refer to my images above for reference."
   ]
  },
  {
   "cell_type": "markdown",
   "id": "f101a02b-5e2b-4cc4-af40-8791ea11bc86",
   "metadata": {},
   "source": [
    "You can also add one using code:"
   ]
  },
  {
   "cell_type": "raw",
   "id": "064764de-2bcb-4b56-abc6-740240255bcf",
   "metadata": {},
   "source": [
    "from IPython.display import Image\n",
    "  \n",
    "Image(url=\"imagename.filetype\", width=300, height=300)"
   ]
  }
 ],
 "metadata": {
  "kernelspec": {
   "display_name": "Python 3 (ipykernel)",
   "language": "python",
   "name": "python3"
  },
  "language_info": {
   "codemirror_mode": {
    "name": "ipython",
    "version": 3
   },
   "file_extension": ".py",
   "mimetype": "text/x-python",
   "name": "python",
   "nbconvert_exporter": "python",
   "pygments_lexer": "ipython3",
   "version": "3.8.12"
  }
 },
 "nbformat": 4,
 "nbformat_minor": 5
}
